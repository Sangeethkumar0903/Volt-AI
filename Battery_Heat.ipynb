{
 "cells": [
  {
   "cell_type": "code",
   "execution_count": 36,
   "metadata": {},
   "outputs": [
    {
     "name": "stdout",
     "output_type": "stream",
     "text": [
      "✅ Images successfully classified into 'Normal' and 'Overheated' folders!\n"
     ]
    }
   ],
   "source": [
    "import cv2\n",
    "import numpy as np\n",
    "import os\n",
    "from sklearn.cluster import KMeans\n",
    "import shutil\n",
    "\n",
    "# Paths\n",
    "INPUT_FOLDER = \"Dataset/all_images/\"  # Folder where 114 images are stored\n",
    "OUTPUT_FOLDER = \"Classified_Infrared_Dataset\"\n",
    "os.makedirs(OUTPUT_FOLDER, exist_ok=True)\n",
    "\n",
    "# Create class folders\n",
    "normal_path = os.path.join(OUTPUT_FOLDER, \"Normal\")\n",
    "hot_path = os.path.join(OUTPUT_FOLDER, \"Overheated\")\n",
    "os.makedirs(normal_path, exist_ok=True)\n",
    "os.makedirs(hot_path, exist_ok=True)\n",
    "\n",
    "# Read images and compute average heat intensity\n",
    "image_features = []\n",
    "image_paths = []\n",
    "for img_file in os.listdir(INPUT_FOLDER):\n",
    "    img_path = os.path.join(INPUT_FOLDER, img_file)\n",
    "    img = cv2.imread(img_path)\n",
    "    img_resized = cv2.resize(img, (100, 100))  # Resize for faster processing\n",
    "    avg_heat = np.mean(img_resized)  # Compute average pixel intensity\n",
    "\n",
    "    image_features.append([avg_heat])\n",
    "    image_paths.append(img_path)\n",
    "\n",
    "# Apply K-Means Clustering (2 clusters: Normal & Overheated)\n",
    "kmeans = KMeans(n_clusters=2, random_state=42)\n",
    "kmeans.fit(image_features)\n",
    "labels = kmeans.labels_\n",
    "\n",
    "# Move images to respective folders based on cluster labels\n",
    "for i, img_path in enumerate(image_paths):\n",
    "    if labels[i] == 0:\n",
    "        shutil.move(img_path, os.path.join(normal_path, os.path.basename(img_path)))\n",
    "    else:\n",
    "        shutil.move(img_path, os.path.join(hot_path, os.path.basename(img_path)))\n",
    "\n",
    "print(\"✅ Images successfully classified into 'Normal' and 'Overheated' folders!\")\n"
   ]
  },
  {
   "cell_type": "code",
   "execution_count": 1,
   "metadata": {},
   "outputs": [],
   "source": [
    "import cv2\n",
    "import numpy as np\n",
    "import os\n",
    "\n",
    "# Image Preprocessing Function\n",
    "def preprocess_image(image_path):\n",
    "    img = cv2.imread(image_path, cv2.IMREAD_GRAYSCALE)  # Convert to grayscale\n",
    "    img = cv2.resize(img, (224, 224))  # Resize to match model input size\n",
    "    img = cv2.GaussianBlur(img, (5, 5), 0)  # Apply Gaussian blur to reduce noise\n",
    "    img = cv2.normalize(img, None, 0, 255, cv2.NORM_MINMAX)  # Contrast enhancement\n",
    "    return img / 255.0  # Normalize pixel values to 0-1\n"
   ]
  },
  {
   "cell_type": "code",
   "execution_count": 3,
   "metadata": {},
   "outputs": [
    {
     "name": "stdout",
     "output_type": "stream",
     "text": [
      "Found 92 images belonging to 2 classes.\n"
     ]
    },
    {
     "name": "stdout",
     "output_type": "stream",
     "text": [
      "Found 22 images belonging to 2 classes.\n"
     ]
    }
   ],
   "source": [
    "from tensorflow.keras.preprocessing.image import ImageDataGenerator\n",
    "\n",
    "datagen = ImageDataGenerator(\n",
    "    rotation_range=25,  # More rotation to introduce variety\n",
    "    width_shift_range=0.2,  # Slightly increase width shifting\n",
    "    height_shift_range=0.2,  # Slightly increase height shifting\n",
    "    brightness_range=[0.6, 1.4],  # Simulating more extreme heat conditions\n",
    "    shear_range=0.2,  # Apply shearing transformation\n",
    "    zoom_range=0.3,  # Random zoom to introduce scale variation\n",
    "    horizontal_flip=True,  # Flip images horizontally\n",
    "    vertical_flip=True,  # Flip images vertically to simulate different angles\n",
    "    fill_mode='nearest',  # Fill gaps created by transformations\n",
    "    validation_split=0.2  # 80% Training, 20% Validation\n",
    ")\n",
    "\n",
    "train_generator = datagen.flow_from_directory(\"classified_infrared_Dataset/\", target_size=(224, 224),\n",
    "                                              batch_size=32, class_mode='binary', subset='training')\n",
    "\n",
    "val_generator = datagen.flow_from_directory(\"classified_infrared_Dataset/\", target_size=(224, 224),\n",
    "                                            batch_size=32, class_mode='binary', subset='validation')\n"
   ]
  },
  {
   "cell_type": "code",
   "execution_count": 9,
   "metadata": {},
   "outputs": [
    {
     "name": "stdout",
     "output_type": "stream",
     "text": [
      "Downloading data from https://storage.googleapis.com/keras-applications/efficientnetb0_notop.h5\n",
      "\u001b[1m16705208/16705208\u001b[0m \u001b[32m━━━━━━━━━━━━━━━━━━━━\u001b[0m\u001b[37m\u001b[0m \u001b[1m282s\u001b[0m 17us/step\n"
     ]
    },
    {
     "name": "stderr",
     "output_type": "stream",
     "text": [
      "C:\\Users\\SANGEETH KUMAR L\\AppData\\Roaming\\Python\\Python310\\site-packages\\keras\\src\\trainers\\data_adapters\\py_dataset_adapter.py:121: UserWarning: Your `PyDataset` class should call `super().__init__(**kwargs)` in its constructor. `**kwargs` can include `workers`, `use_multiprocessing`, `max_queue_size`. Do not pass these arguments to `fit()`, as they will be ignored.\n",
      "  self._warn_if_super_not_called()\n"
     ]
    },
    {
     "name": "stdout",
     "output_type": "stream",
     "text": [
      "Epoch 1/10\n",
      "\u001b[1m3/3\u001b[0m \u001b[32m━━━━━━━━━━━━━━━━━━━━\u001b[0m\u001b[37m\u001b[0m \u001b[1m51s\u001b[0m 4s/step - accuracy: 0.6900 - loss: 0.5423 - val_accuracy: 1.0000 - val_loss: 0.1518\n",
      "Epoch 2/10\n",
      "\u001b[1m3/3\u001b[0m \u001b[32m━━━━━━━━━━━━━━━━━━━━\u001b[0m\u001b[37m\u001b[0m \u001b[1m6s\u001b[0m 2s/step - accuracy: 0.9760 - loss: 0.1060 - val_accuracy: 0.9091 - val_loss: 0.1167\n",
      "Epoch 3/10\n",
      "\u001b[1m3/3\u001b[0m \u001b[32m━━━━━━━━━━━━━━━━━━━━\u001b[0m\u001b[37m\u001b[0m \u001b[1m7s\u001b[0m 2s/step - accuracy: 1.0000 - loss: 0.0166 - val_accuracy: 0.9091 - val_loss: 0.3158\n",
      "Epoch 4/10\n",
      "\u001b[1m3/3\u001b[0m \u001b[32m━━━━━━━━━━━━━━━━━━━━\u001b[0m\u001b[37m\u001b[0m \u001b[1m6s\u001b[0m 2s/step - accuracy: 0.9946 - loss: 0.0705 - val_accuracy: 0.8636 - val_loss: 0.7188\n",
      "Epoch 5/10\n",
      "\u001b[1m3/3\u001b[0m \u001b[32m━━━━━━━━━━━━━━━━━━━━\u001b[0m\u001b[37m\u001b[0m \u001b[1m6s\u001b[0m 2s/step - accuracy: 0.9730 - loss: 0.0952 - val_accuracy: 0.8182 - val_loss: 0.5174\n",
      "Epoch 6/10\n",
      "\u001b[1m3/3\u001b[0m \u001b[32m━━━━━━━━━━━━━━━━━━━━\u001b[0m\u001b[37m\u001b[0m \u001b[1m6s\u001b[0m 2s/step - accuracy: 0.9294 - loss: 0.1953 - val_accuracy: 1.0000 - val_loss: 0.0010\n",
      "Epoch 7/10\n",
      "\u001b[1m3/3\u001b[0m \u001b[32m━━━━━━━━━━━━━━━━━━━━\u001b[0m\u001b[37m\u001b[0m \u001b[1m6s\u001b[0m 2s/step - accuracy: 0.9904 - loss: 0.0232 - val_accuracy: 0.9545 - val_loss: 0.2098\n",
      "Epoch 8/10\n",
      "\u001b[1m3/3\u001b[0m \u001b[32m━━━━━━━━━━━━━━━━━━━━\u001b[0m\u001b[37m\u001b[0m \u001b[1m6s\u001b[0m 2s/step - accuracy: 0.9815 - loss: 0.0355 - val_accuracy: 1.0000 - val_loss: 0.0018\n",
      "Epoch 9/10\n",
      "\u001b[1m3/3\u001b[0m \u001b[32m━━━━━━━━━━━━━━━━━━━━\u001b[0m\u001b[37m\u001b[0m \u001b[1m6s\u001b[0m 2s/step - accuracy: 0.9795 - loss: 0.0801 - val_accuracy: 1.0000 - val_loss: 1.5360e-05\n",
      "Epoch 10/10\n",
      "\u001b[1m3/3\u001b[0m \u001b[32m━━━━━━━━━━━━━━━━━━━━\u001b[0m\u001b[37m\u001b[0m \u001b[1m6s\u001b[0m 2s/step - accuracy: 1.0000 - loss: 0.0078 - val_accuracy: 0.9545 - val_loss: 0.1980\n"
     ]
    },
    {
     "name": "stderr",
     "output_type": "stream",
     "text": [
      "WARNING:absl:You are saving your model as an HDF5 file via `model.save()` or `keras.saving.save_model(model)`. This file format is considered legacy. We recommend using instead the native Keras format, e.g. `model.save('my_model.keras')` or `keras.saving.save_model(model, 'my_model.keras')`. \n"
     ]
    }
   ],
   "source": [
    "from tensorflow.keras.applications import EfficientNetB0\n",
    "from tensorflow.keras.models import Model\n",
    "from tensorflow.keras.layers import Dense, GlobalAveragePooling2D\n",
    "\n",
    "# Load Pretrained Model\n",
    "base_model = EfficientNetB0(weights='imagenet', include_top=False, input_shape=(224, 224, 3))\n",
    "x = GlobalAveragePooling2D()(base_model.output)\n",
    "x = Dense(128, activation='relu')(x)\n",
    "output = Dense(1, activation='sigmoid')(x)  # Binary classification: Normal / Overheating\n",
    "\n",
    "# Define Final Model\n",
    "model = Model(inputs=base_model.input, outputs=output)\n",
    "model.compile(optimizer='adam', loss='binary_crossentropy', metrics=['accuracy'])\n",
    "\n",
    "# Train Model\n",
    "model.fit(train_generator, validation_data=val_generator, epochs=10)\n",
    "\n",
    "# Save Model\n",
    "model.save(\"battery_heat_model.h5\")\n"
   ]
  },
  {
   "cell_type": "code",
   "execution_count": 56,
   "metadata": {},
   "outputs": [
    {
     "name": "stdout",
     "output_type": "stream",
     "text": [
      "Defaulting to user installation because normal site-packages is not writeable\n",
      "Collecting flask\n",
      "  Downloading flask-3.1.0-py3-none-any.whl (102 kB)\n",
      "Requirement already satisfied: pymongo in c:\\users\\sangeeth kumar l\\appdata\\roaming\\python\\python310\\site-packages (4.11.1)\n",
      "Note: you may need to restart the kernel to use updated packages.\n"
     ]
    },
    {
     "name": "stderr",
     "output_type": "stream",
     "text": [
      "ERROR: Could not find a version that satisfies the requirement gridfs (from versions: none)\n",
      "ERROR: No matching distribution found for gridfs\n",
      "WARNING: You are using pip version 21.2.3; however, version 25.0.1 is available.\n",
      "You should consider upgrading via the 'c:\\Program Files\\Python310\\python.exe -m pip install --upgrade pip' command.\n"
     ]
    }
   ],
   "source": [
    "pip install flask pymongo gridfs pillow tensorflow\n"
   ]
  },
  {
   "cell_type": "code",
   "execution_count": null,
   "metadata": {},
   "outputs": [
    {
     "name": "stderr",
     "output_type": "stream",
     "text": [
      "WARNING:absl:Compiled the loaded model, but the compiled metrics have yet to be built. `model.compile_metrics` will be empty until you train or evaluate the model.\n"
     ]
    },
    {
     "name": "stdout",
     "output_type": "stream",
     "text": [
      "✅ Model Loaded Successfully\n",
      " * Serving Flask app '__main__'\n",
      " * Debug mode: on\n"
     ]
    },
    {
     "name": "stderr",
     "output_type": "stream",
     "text": [
      "INFO:werkzeug:\u001b[31m\u001b[1mWARNING: This is a development server. Do not use it in a production deployment. Use a production WSGI server instead.\u001b[0m\n",
      " * Running on http://127.0.0.1:5000\n",
      "INFO:werkzeug:\u001b[33mPress CTRL+C to quit\u001b[0m\n",
      "INFO:werkzeug:127.0.0.1 - - [04/Mar/2025 07:39:26] \"\u001b[33mGET /battery-status HTTP/1.1\u001b[0m\" 404 -\n",
      "INFO:werkzeug:127.0.0.1 - - [04/Mar/2025 07:39:26] \"\u001b[33mGET /favicon.ico HTTP/1.1\u001b[0m\" 404 -\n",
      "INFO:werkzeug:127.0.0.1 - - [04/Mar/2025 07:43:28] \"\u001b[35m\u001b[1mGET /heat_controller HTTP/1.1\u001b[0m\" 500 -\n",
      "INFO:werkzeug:127.0.0.1 - - [04/Mar/2025 07:43:28] \"GET /heat_controller HTTP/1.1\" 200 -\n",
      "INFO:werkzeug:127.0.0.1 - - [04/Mar/2025 07:43:28] \"\u001b[35m\u001b[1mGET /heat_controller HTTP/1.1\u001b[0m\" 500 -\n",
      "INFO:werkzeug:127.0.0.1 - - [04/Mar/2025 07:43:28] \"\u001b[35m\u001b[1mGET /heat_controller HTTP/1.1\u001b[0m\" 500 -\n"
     ]
    },
    {
     "name": "stdout",
     "output_type": "stream",
     "text": [
      "Error in heat control: Task <Task pending name='Task-94' coro=<adjust_battery_power() running at e:\\Codevolt\\battery_control.py:8>> got Future <Future pending cb=[_chain_future.<locals>._call_check_cancel() at c:\\Program Files\\Python310\\lib\\asyncio\\futures.py:384]> attached to a different loop\n",
      "Error in heat control: Task <Task pending name='Task-95' coro=<adjust_battery_power() running at e:\\Codevolt\\battery_control.py:8>> got Future <Future pending cb=[_chain_future.<locals>._call_check_cancel() at c:\\Program Files\\Python310\\lib\\asyncio\\futures.py:384]> attached to a different loop\n",
      "Error in heat control: Task <Task pending name='Task-96' coro=<adjust_battery_power() running at e:\\Codevolt\\battery_control.py:8>> got Future <Future pending cb=[_chain_future.<locals>._call_check_cancel() at c:\\Program Files\\Python310\\lib\\asyncio\\futures.py:384]> attached to a different loop\n"
     ]
    },
    {
     "name": "stderr",
     "output_type": "stream",
     "text": [
      "INFO:werkzeug:127.0.0.1 - - [04/Mar/2025 07:43:34] \"\u001b[35m\u001b[1mGET /heat_controller HTTP/1.1\u001b[0m\" 500 -\n",
      "INFO:werkzeug:127.0.0.1 - - [04/Mar/2025 07:43:34] \"\u001b[35m\u001b[1mGET /heat_controller HTTP/1.1\u001b[0m\" 500 -\n",
      "INFO:werkzeug:127.0.0.1 - - [04/Mar/2025 07:43:34] \"\u001b[35m\u001b[1mGET /heat_controller HTTP/1.1\u001b[0m\" 500 -\n",
      "INFO:werkzeug:127.0.0.1 - - [04/Mar/2025 07:43:34] \"\u001b[35m\u001b[1mGET /heat_controller HTTP/1.1\u001b[0m\" 500 -\n"
     ]
    },
    {
     "name": "stdout",
     "output_type": "stream",
     "text": [
      "Error in heat control: Task <Task pending name='Task-97' coro=<adjust_battery_power() running at e:\\Codevolt\\battery_control.py:8>> got Future <Future pending cb=[_chain_future.<locals>._call_check_cancel() at c:\\Program Files\\Python310\\lib\\asyncio\\futures.py:384]> attached to a different loop\n",
      "Error in heat control: Task <Task pending name='Task-98' coro=<adjust_battery_power() running at e:\\Codevolt\\battery_control.py:8>> got Future <Future pending cb=[_chain_future.<locals>._call_check_cancel() at c:\\Program Files\\Python310\\lib\\asyncio\\futures.py:384]> attached to a different loop\n",
      "Error in heat control: Task <Task pending name='Task-99' coro=<adjust_battery_power() running at e:\\Codevolt\\battery_control.py:8>> got Future <Future pending cb=[_chain_future.<locals>._call_check_cancel() at c:\\Program Files\\Python310\\lib\\asyncio\\futures.py:384]> attached to a different loop\n",
      "Error in heat control: Task <Task pending name='Task-100' coro=<adjust_battery_power() running at e:\\Codevolt\\battery_control.py:8>> got Future <Future pending cb=[_chain_future.<locals>._call_check_cancel() at c:\\Program Files\\Python310\\lib\\asyncio\\futures.py:384]> attached to a different loop\n"
     ]
    },
    {
     "name": "stderr",
     "output_type": "stream",
     "text": [
      "INFO:werkzeug:127.0.0.1 - - [04/Mar/2025 07:43:38] \"\u001b[35m\u001b[1mGET /heat_controller HTTP/1.1\u001b[0m\" 500 -\n",
      "INFO:werkzeug:127.0.0.1 - - [04/Mar/2025 07:43:38] \"\u001b[35m\u001b[1mGET /heat_controller HTTP/1.1\u001b[0m\" 500 -\n",
      "INFO:werkzeug:127.0.0.1 - - [04/Mar/2025 07:43:38] \"\u001b[35m\u001b[1mGET /heat_controller HTTP/1.1\u001b[0m\" 500 -\n",
      "INFO:werkzeug:127.0.0.1 - - [04/Mar/2025 07:43:38] \"\u001b[35m\u001b[1mGET /heat_controller HTTP/1.1\u001b[0m\" 500 -\n",
      "INFO:werkzeug:127.0.0.1 - - [04/Mar/2025 07:43:38] \"\u001b[35m\u001b[1mGET /heat_controller HTTP/1.1\u001b[0m\" 500 -\n"
     ]
    },
    {
     "name": "stdout",
     "output_type": "stream",
     "text": [
      "Error in heat control: Task <Task pending name='Task-101' coro=<adjust_battery_power() running at e:\\Codevolt\\battery_control.py:8>> got Future <Future pending cb=[_chain_future.<locals>._call_check_cancel() at c:\\Program Files\\Python310\\lib\\asyncio\\futures.py:384]> attached to a different loop\n",
      "Error in heat control: Task <Task pending name='Task-102' coro=<adjust_battery_power() running at e:\\Codevolt\\battery_control.py:8>> got Future <Future pending cb=[_chain_future.<locals>._call_check_cancel() at c:\\Program Files\\Python310\\lib\\asyncio\\futures.py:384]> attached to a different loop\n",
      "Error in heat control: Task <Task pending name='Task-104' coro=<adjust_battery_power() running at e:\\Codevolt\\battery_control.py:8>> got Future <Future pending cb=[_chain_future.<locals>._call_check_cancel() at c:\\Program Files\\Python310\\lib\\asyncio\\futures.py:384]> attached to a different loop\n",
      "Error in heat control: Task <Task pending name='Task-103' coro=<adjust_battery_power() running at e:\\Codevolt\\battery_control.py:8>> got Future <Future pending cb=[_chain_future.<locals>._call_check_cancel() at c:\\Program Files\\Python310\\lib\\asyncio\\futures.py:384]> attached to a different loop\n",
      "Error in heat control: Task <Task pending name='Task-105' coro=<adjust_battery_power() running at e:\\Codevolt\\battery_control.py:8>> got Future <Future pending cb=[_chain_future.<locals>._call_check_cancel() at c:\\Program Files\\Python310\\lib\\asyncio\\futures.py:384]> attached to a different loop\n"
     ]
    },
    {
     "name": "stderr",
     "output_type": "stream",
     "text": [
      "INFO:werkzeug:127.0.0.1 - - [04/Mar/2025 07:45:32] \"\u001b[35m\u001b[1mGET /heat_controller HTTP/1.1\u001b[0m\" 500 -\n",
      "INFO:werkzeug:127.0.0.1 - - [04/Mar/2025 07:45:32] \"\u001b[35m\u001b[1mGET /heat_controller HTTP/1.1\u001b[0m\" 500 -\n"
     ]
    },
    {
     "name": "stdout",
     "output_type": "stream",
     "text": [
      "Error in heat control: Task <Task pending name='Task-106' coro=<adjust_battery_power() running at e:\\Codevolt\\battery_control.py:8>> got Future <Future pending cb=[_chain_future.<locals>._call_check_cancel() at c:\\Program Files\\Python310\\lib\\asyncio\\futures.py:384]> attached to a different loop\n",
      "Error in heat control: Task <Task pending name='Task-107' coro=<adjust_battery_power() running at e:\\Codevolt\\battery_control.py:8>> got Future <Future pending cb=[_chain_future.<locals>._call_check_cancel() at c:\\Program Files\\Python310\\lib\\asyncio\\futures.py:384]> attached to a different loop\n"
     ]
    },
    {
     "name": "stderr",
     "output_type": "stream",
     "text": [
      "INFO:werkzeug:127.0.0.1 - - [04/Mar/2025 07:45:41] \"\u001b[35m\u001b[1mGET /heat_controller HTTP/1.1\u001b[0m\" 500 -\n",
      "INFO:werkzeug:127.0.0.1 - - [04/Mar/2025 07:45:41] \"\u001b[35m\u001b[1mGET /heat_controller HTTP/1.1\u001b[0m\" 500 -\n"
     ]
    },
    {
     "name": "stdout",
     "output_type": "stream",
     "text": [
      "Error in heat control: Task <Task pending name='Task-108' coro=<adjust_battery_power() running at e:\\Codevolt\\battery_control.py:8>> got Future <Future pending cb=[_chain_future.<locals>._call_check_cancel() at c:\\Program Files\\Python310\\lib\\asyncio\\futures.py:384]> attached to a different loop\n",
      "Error in heat control: Task <Task pending name='Task-109' coro=<adjust_battery_power() running at e:\\Codevolt\\battery_control.py:8>> got Future <Future pending cb=[_chain_future.<locals>._call_check_cancel() at c:\\Program Files\\Python310\\lib\\asyncio\\futures.py:384]> attached to a different loop\n"
     ]
    }
   ],
   "source": [
    "from flask import Flask, request, render_template, jsonify\n",
    "from flask_cors import CORS\n",
    "import base64\n",
    "import io\n",
    "from PIL import Image\n",
    "import numpy as np\n",
    "import tensorflow as tf\n",
    "from pymongo import MongoClient\n",
    "from bson import ObjectId\n",
    "import asyncio  # Import asyncio for async functions\n",
    "\n",
    "# Import heat control functions\n",
    "from battery_control import get_latest_battery_data, adjust_battery_power\n",
    "\n",
    "app = Flask(__name__)\n",
    "CORS(app)\n",
    "\n",
    "# ✅ Connect to MongoDB\n",
    "client = MongoClient(\"mongodb://localhost:27017/\")\n",
    "db = client[\"battery_monitoring\"]\n",
    "collection = db[\"predictions\"]\n",
    "\n",
    "# ✅ Load AI Model\n",
    "MODEL_PATH = \"battery_heat_model.h5\"\n",
    "model = tf.keras.models.load_model(MODEL_PATH)\n",
    "print(\"✅ Model Loaded Successfully\")\n",
    "\n",
    "def preprocess_image(image: Image.Image):\n",
    "    \"\"\"Preprocess the image before feeding it into the model.\"\"\"\n",
    "    image = image.resize((224, 224))  # Resize to match model input size\n",
    "    image = np.array(image) / 255.0  # Normalize pixel values\n",
    "    image = np.expand_dims(image, axis=0)  # Add batch dimension\n",
    "    return image\n",
    "\n",
    "@app.route('/')\n",
    "def index():\n",
    "    return render_template('index.html')\n",
    "\n",
    "@app.route('/upload', methods=['POST'])\n",
    "def upload():\n",
    "    try:\n",
    "        file = request.files['file']\n",
    "        if not file:\n",
    "            return jsonify({'error': 'No file uploaded'}), 400\n",
    "\n",
    "        if not file.content_type in ['image/jpeg', 'image/jpg']:\n",
    "            return jsonify({'error': 'Invalid file type. Please upload a JPG/JPEG image.'}), 400\n",
    "\n",
    "        # ✅ Convert Image to Base64\n",
    "        image = Image.open(file.stream)\n",
    "        buffered = io.BytesIO()\n",
    "        image.save(buffered, format=\"JPEG\")\n",
    "        img_base64 = base64.b64encode(buffered.getvalue()).decode(\"utf-8\")\n",
    "\n",
    "        # ✅ Process Image for AI Model\n",
    "        processed_image = preprocess_image(image)\n",
    "        prediction = model.predict(processed_image)\n",
    "        heat_issue_prob = float(prediction[0][0])  # Extract probability\n",
    "        status = \"Battery Overheating!\" if heat_issue_prob > 0.5 else \"Battery Temperature Normal.\"\n",
    "\n",
    "        # ✅ Store Everything in MongoDB\n",
    "        result = {\n",
    "            \"image_base64\": img_base64,\n",
    "            \"image_name\": file.filename,\n",
    "            \"heat_issue_probability\": heat_issue_prob,\n",
    "            \"status\": status\n",
    "        }\n",
    "        insert_result = collection.insert_one(result)\n",
    "\n",
    "        # Convert ObjectId to string\n",
    "        result['_id'] = str(insert_result.inserted_id)\n",
    "\n",
    "        return jsonify(result)\n",
    "    except Exception as e:\n",
    "        print(\"Exception occurred:\", str(e))\n",
    "        return jsonify({\"error\": str(e)}), 500\n",
    "\n",
    "@app.route('/heat_controller', methods=['GET'])\n",
    "def heat_controller():\n",
    "    \"\"\"Fetch latest battery data and decide cooling adjustments.\"\"\"\n",
    "    try:\n",
    "        loop = asyncio.new_event_loop()\n",
    "        asyncio.set_event_loop(loop)\n",
    "        control_data = loop.run_until_complete(adjust_battery_power())  # Run async function\n",
    "        return jsonify(control_data)\n",
    "    except Exception as e:\n",
    "        print(\"Error in heat control:\", str(e))\n",
    "        return jsonify({\"error\": str(e)}), 500\n",
    "\n",
    "if __name__ == '__main__':\n",
    "    app.run(debug=True, host=\"127.0.0.1\", port=5000, use_reloader=False)\n"
   ]
  }
 ],
 "metadata": {
  "kernelspec": {
   "display_name": "Python 3",
   "language": "python",
   "name": "python3"
  },
  "language_info": {
   "codemirror_mode": {
    "name": "ipython",
    "version": 3
   },
   "file_extension": ".py",
   "mimetype": "text/x-python",
   "name": "python",
   "nbconvert_exporter": "python",
   "pygments_lexer": "ipython3",
   "version": "3.10.0rc2"
  }
 },
 "nbformat": 4,
 "nbformat_minor": 2
}
